{
 "cells": [
  {
   "cell_type": "code",
   "execution_count": 2,
   "id": "86e5a285-2012-4b96-ab8e-24e7221fc762",
   "metadata": {},
   "outputs": [
    {
     "name": "stdout",
     "output_type": "stream",
     "text": [
      "sphinx\n",
      "of\n",
      "black\n",
      "quartz\n",
      "judge\n",
      "my\n",
      "vow"
     ]
    }
   ],
   "source": [
    "# Read from 'example.txt', output one line after another without blank spaces\n",
    "\n",
    "with open(\"example.txt\", \"r\", encoding=\"utf-8\") as file_handler:\n",
    "\tfor line in file_handler:\n",
    "\t\tprint(line, end='')"
   ]
  },
  {
   "cell_type": "code",
   "execution_count": 5,
   "id": "f4148f2c-900d-44c2-87ad-15bbd316804d",
   "metadata": {},
   "outputs": [],
   "source": [
    "# Write 'Hello World' to a new file.\n",
    "\n",
    "with open(\"my_file.txt\", \"w\", encoding=\"utf-8\") as file_handler:\n",
    "\tfile_handler.write(\"Hello, World!\")"
   ]
  },
  {
   "cell_type": "code",
   "execution_count": 6,
   "id": "0a840958-cbfc-435b-8d47-c32ee84811cd",
   "metadata": {},
   "outputs": [],
   "source": [
    "# Overwrite 'Good Evening' to a new file.\n",
    "\n",
    "with open(\"my_file.txt\", \"w\", encoding=\"utf-8\") as file_handler:\n",
    "\tfile_handler.write(\"Good Evening!\")"
   ]
  },
  {
   "cell_type": "code",
   "execution_count": 9,
   "id": "c9e6e8df-361b-41fc-b451-446707807e10",
   "metadata": {},
   "outputs": [
    {
     "name": "stdin",
     "output_type": "stream",
     "text": [
      "Make a statement:  Yes this is me.\n"
     ]
    }
   ],
   "source": [
    "# Asking for a user input and appending it to it to my_file.txt.\n",
    "\n",
    "with open(\"my_file.txt\", \"a\", encoding=\"utf-8\") as file_handler:\n",
    "    message = input(\"Make a statement: \")\n",
    "    file_handler.write(\"\\n\" + message)"
   ]
  },
  {
   "cell_type": "code",
   "execution_count": 10,
   "id": "acb3fa34-ef7b-490d-8594-d2611ebf3845",
   "metadata": {},
   "outputs": [
    {
     "name": "stdin",
     "output_type": "stream",
     "text": [
      "Make a statement:  This is my first statement.\n",
      "Make a statement:  This is my second statement.\n",
      "Make a statement:  quit\n"
     ]
    }
   ],
   "source": [
    "# Appending to a file in a loop.\n",
    "\n",
    "message = ''\n",
    "with open(\"my_file.txt\", \"a\", encoding=\"utf-8\") as file_handler:\n",
    "    while message != 'quit':\n",
    "        message = input(\"Make a statement: \")\n",
    "        if message != 'quit':\n",
    "            file_handler.write(\"\\n\" + message)"
   ]
  },
  {
   "cell_type": "code",
   "execution_count": 16,
   "id": "361fc855-dfcd-4eef-a5a6-23161d03f830",
   "metadata": {},
   "outputs": [
    {
     "name": "stdout",
     "output_type": "stream",
     "text": [
      "['sphinx', 'of', 'black', 'quartz', 'judge', 'my', 'vow']\n"
     ]
    }
   ],
   "source": [
    "# Return list of all words in a text file.\n",
    "\n",
    "with open(\"example.txt\", \"r\", encoding=\"utf-8\") as file_handler:\n",
    "    my_text = file_handler.read()\n",
    "    my_list = my_text.split()\n",
    "\n",
    "print(my_list)"
   ]
  },
  {
   "cell_type": "markdown",
   "id": "663a355a-f434-46e4-a57e-78995e16f75c",
   "metadata": {},
   "source": [
    "##### Word Counter for Book Camilla"
   ]
  },
  {
   "cell_type": "code",
   "execution_count": 26,
   "id": "b6e95ce3-96fc-45a2-8d48-9739a75ca535",
   "metadata": {},
   "outputs": [
    {
     "data": {
      "text/plain": [
       "{'i': 0, 'hate': 0, 'you': 0}"
      ]
     },
     "execution_count": 26,
     "metadata": {},
     "output_type": "execute_result"
    }
   ],
   "source": [
    "# Function to input and split and count all occurences of all words.\n",
    "def word_count(string):\n",
    "    list_words = string.split()\n",
    "    # global sentence_dict\n",
    "    sentence_dict = {} # Initialise empty dict\n",
    "    for word in list_words: # Take each word\n",
    "        if word not in sentence_dict: # Check if it's not already in the dict\n",
    "            sentence_dict[word] = 0 # Add it to the dict and set its count to 0.\n",
    "\n",
    "word_count(\"i hate you\")\n",
    "# sentence_dict"
   ]
  },
  {
   "cell_type": "code",
   "execution_count": 34,
   "id": "7a4e6892-8cb0-421c-9114-63e989aa8297",
   "metadata": {},
   "outputs": [
    {
     "data": {
      "text/plain": [
       "{'vow': 0}"
      ]
     },
     "execution_count": 34,
     "metadata": {},
     "output_type": "execute_result"
    }
   ],
   "source": [
    "global_dict = {}\n",
    "\n",
    "with open(\"example.txt\", \"r\", encoding=\"utf-8\") as file_handler:\n",
    "    for line in file_handler:\n",
    "        word_count(line)\n",
    "for key,value in sentence_dict.items():\n",
    "    global_dict[key] = global_dict.get(key, 0) + value\n",
    "\n",
    "global_dict"
   ]
  },
  {
   "cell_type": "code",
   "execution_count": null,
   "id": "0866422b-4950-488b-a4f0-a82588a92e67",
   "metadata": {},
   "outputs": [],
   "source": []
  }
 ],
 "metadata": {
  "kernelspec": {
   "display_name": "Python 3 (ipykernel)",
   "language": "python",
   "name": "python3"
  },
  "language_info": {
   "codemirror_mode": {
    "name": "ipython",
    "version": 3
   },
   "file_extension": ".py",
   "mimetype": "text/x-python",
   "name": "python",
   "nbconvert_exporter": "python",
   "pygments_lexer": "ipython3",
   "version": "3.13.2"
  }
 },
 "nbformat": 4,
 "nbformat_minor": 5
}
