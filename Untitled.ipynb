{
 "cells": [
  {
   "cell_type": "code",
   "execution_count": 9,
   "id": "b537c3db-2bef-4d44-be9b-5a4aec7c7405",
   "metadata": {},
   "outputs": [],
   "source": [
    "x = [1, 2, 3]"
   ]
  },
  {
   "cell_type": "code",
   "execution_count": 10,
   "id": "548d0bba-3a8f-4a3d-a4fc-49cae7a0868f",
   "metadata": {},
   "outputs": [
    {
     "name": "stdout",
     "output_type": "stream",
     "text": [
      "None\n"
     ]
    }
   ],
   "source": [
    "print(x.append(4))"
   ]
  },
  {
   "cell_type": "code",
   "execution_count": 11,
   "id": "32d193d4-3932-443d-848b-390e8ad04ef7",
   "metadata": {},
   "outputs": [
    {
     "name": "stdout",
     "output_type": "stream",
     "text": [
      "[1, 2, 3, 4, 4]\n"
     ]
    }
   ],
   "source": [
    "x.append(4)\n",
    "print(x)"
   ]
  },
  {
   "cell_type": "code",
   "execution_count": 17,
   "id": "a3278cba-70af-48f4-8a03-802eaa79ceac",
   "metadata": {},
   "outputs": [
    {
     "data": {
      "text/plain": [
       "(1, 2, 3, 4)"
      ]
     },
     "execution_count": 17,
     "metadata": {},
     "output_type": "execute_result"
    }
   ],
   "source": [
    "# Function to add element to Tuple\n",
    "\n",
    "def push(some_tuple, element):\n",
    "    list_conv = list(some_tuple)\n",
    "    list_conv.append(element)\n",
    "    final_tuple = tuple(list_conv)\n",
    "    return final_tuple\n",
    "\n",
    "my_tuple = (1, 2, 3)\n",
    "push(my_tuple, 4)"
   ]
  },
  {
   "cell_type": "code",
   "execution_count": 18,
   "id": "6a5de531-54c8-4c5e-a278-1aacb4b0b974",
   "metadata": {},
   "outputs": [
    {
     "data": {
      "text/plain": [
       "True"
      ]
     },
     "execution_count": 18,
     "metadata": {},
     "output_type": "execute_result"
    }
   ],
   "source": [
    "# Function to determine equality of two tuples\n",
    "\n",
    "def is_equal(tuple1, tuple2):\n",
    "    if tuple1 == tuple2:\n",
    "        return True\n",
    "\n",
    "is_equal((1, 2, 3), (1, 1+1, 2+1))"
   ]
  },
  {
   "cell_type": "code",
   "execution_count": 20,
   "id": "462cc296-91a3-4a83-878d-9992577fd4a4",
   "metadata": {},
   "outputs": [
    {
     "data": {
      "text/plain": [
       "True"
      ]
     },
     "execution_count": 20,
     "metadata": {},
     "output_type": "execute_result"
    }
   ],
   "source": [
    "# Function to determine greater of two tuples\n",
    "\n",
    "def greater(tuple1, tuple2):\n",
    "    if tuple1 > tuple2:\n",
    "        return True\n",
    "\n",
    "greater((100, 2, 3), (1, 1+1, 2+1))"
   ]
  },
  {
   "cell_type": "code",
   "execution_count": 22,
   "id": "4968fc33-f9ad-48d3-9bcc-65b740154f26",
   "metadata": {},
   "outputs": [
    {
     "ename": "TypeError",
     "evalue": "'>' not supported between instances of 'str' and 'int'",
     "output_type": "error",
     "traceback": [
      "\u001b[31m---------------------------------------------------------------------------\u001b[39m",
      "\u001b[31mTypeError\u001b[39m                                 Traceback (most recent call last)",
      "\u001b[36mCell\u001b[39m\u001b[36m \u001b[39m\u001b[32mIn[22]\u001b[39m\u001b[32m, line 1\u001b[39m\n\u001b[32m----> \u001b[39m\u001b[32m1\u001b[39m \u001b[43m(\u001b[49m\u001b[32;43m1\u001b[39;49m\u001b[43m,\u001b[49m\u001b[43m \u001b[49m\u001b[33;43m'\u001b[39;49m\u001b[33;43ma\u001b[39;49m\u001b[33;43m'\u001b[39;49m\u001b[43m,\u001b[49m\u001b[43m \u001b[49m\u001b[38;5;28;43;01mTrue\u001b[39;49;00m\u001b[43m)\u001b[49m\u001b[43m \u001b[49m\u001b[43m>\u001b[49m\u001b[43m \u001b[49m\u001b[43m(\u001b[49m\u001b[32;43m1\u001b[39;49m\u001b[43m,\u001b[49m\u001b[43m \u001b[49m\u001b[32;43m2\u001b[39;49m\u001b[43m,\u001b[49m\u001b[43m \u001b[49m\u001b[32;43m3\u001b[39;49m\u001b[43m)\u001b[49m\n",
      "\u001b[31mTypeError\u001b[39m: '>' not supported between instances of 'str' and 'int'"
     ]
    }
   ],
   "source": [
    "(1, 'a', True) > (1, 2, 3)"
   ]
  },
  {
   "cell_type": "markdown",
   "id": "2f48076b-de28-41c7-a028-98f788ab862c",
   "metadata": {},
   "source": [
    "You can't compare tuples containing multiple data types."
   ]
  },
  {
   "cell_type": "code",
   "execution_count": 27,
   "id": "4d24ad35-93f9-4b01-9afb-73c7b7562ee3",
   "metadata": {},
   "outputs": [
    {
     "data": {
      "text/plain": [
       "[(1, 4), (2, 3), (3, 1), (3, 4)]"
      ]
     },
     "execution_count": 27,
     "metadata": {},
     "output_type": "execute_result"
    }
   ],
   "source": [
    "x = [(2, 3), (1, 4), (3, 4), (3, 1)]\n",
    "x.sort()\n",
    "x"
   ]
  },
  {
   "cell_type": "markdown",
   "id": "082494a1-6405-49c1-b052-d41862dad237",
   "metadata": {},
   "source": [
    "Sorts by first tuple value first, then second value second."
   ]
  },
  {
   "cell_type": "code",
   "execution_count": 28,
   "id": "87d6ac97-b9a9-4b76-b826-3b0eff227d58",
   "metadata": {},
   "outputs": [
    {
     "data": {
      "text/plain": [
       "{(1, 2): 'a'}"
      ]
     },
     "execution_count": 28,
     "metadata": {},
     "output_type": "execute_result"
    }
   ],
   "source": [
    "{(1,2): \"a\"}"
   ]
  },
  {
   "cell_type": "markdown",
   "id": "f60d59a8-3586-4053-89c5-6d756ed1ed56",
   "metadata": {},
   "source": [
    "A tuple is considered a single object since it's immutable."
   ]
  },
  {
   "cell_type": "code",
   "execution_count": 30,
   "id": "098b0e02-7fee-40c5-bddf-c5ccbb5f5a32",
   "metadata": {},
   "outputs": [
    {
     "data": {
      "text/plain": [
       "['jjj', 'jjj']"
      ]
     },
     "execution_count": 30,
     "metadata": {},
     "output_type": "execute_result"
    }
   ],
   "source": [
    "\"jjj jjj\".split()"
   ]
  },
  {
   "cell_type": "code",
   "execution_count": 31,
   "id": "57b01e06-ce51-42f8-b2e1-5c3f3af85fde",
   "metadata": {},
   "outputs": [
    {
     "data": {
      "text/plain": [
       "['i', 'love', 'you']"
      ]
     },
     "execution_count": 31,
     "metadata": {},
     "output_type": "execute_result"
    }
   ],
   "source": [
    "# Script to input a sentence and parse the words into a list.\n",
    "def word_count(sentence):\n",
    "    word_list = sentence.split()\n",
    "    word_count = len(word_list)\n",
    "    return word_list\n",
    "\n",
    "word_count(\"i love you\")"
   ]
  },
  {
   "cell_type": "code",
   "execution_count": null,
   "id": "0933620b-591d-4f44-8aab-ae6b23df5070",
   "metadata": {},
   "outputs": [],
   "source": []
  }
 ],
 "metadata": {
  "kernelspec": {
   "display_name": "Python 3 (ipykernel)",
   "language": "python",
   "name": "python3"
  },
  "language_info": {
   "codemirror_mode": {
    "name": "ipython",
    "version": 3
   },
   "file_extension": ".py",
   "mimetype": "text/x-python",
   "name": "python",
   "nbconvert_exporter": "python",
   "pygments_lexer": "ipython3",
   "version": "3.13.2"
  }
 },
 "nbformat": 4,
 "nbformat_minor": 5
}
